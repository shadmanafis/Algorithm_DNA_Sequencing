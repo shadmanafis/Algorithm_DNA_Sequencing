{
 "cells": [
  {
   "cell_type": "markdown",
   "id": "e7df870c",
   "metadata": {},
   "source": [
    "Q1. How many times does AGGT or its reverse complement ACCT occur in the lambda virus genome?  E.g. if AGGT occurs 10 times and ACCT occurs 12 times, you should report 22."
   ]
  },
  {
   "cell_type": "code",
   "execution_count": 1,
   "id": "ebfb195d",
   "metadata": {},
   "outputs": [
    {
     "name": "stderr",
     "output_type": "stream",
     "text": [
      "--2021-08-06 13:28:34--  https://d28rh4a8wq0iu5.cloudfront.net/ads1/data/lambda_virus.fa\n",
      "Resolving d28rh4a8wq0iu5.cloudfront.net (d28rh4a8wq0iu5.cloudfront.net)... 143.204.253.145, 143.204.253.74, 143.204.253.165, ...\n",
      "Connecting to d28rh4a8wq0iu5.cloudfront.net (d28rh4a8wq0iu5.cloudfront.net)|143.204.253.145|:443... connected.\n",
      "HTTP request sent, awaiting response... 200 OK\n",
      "Length: 49270 (48K) [application/octet-stream]\n",
      "Saving to: 'lambda_virus.fa.1'\n",
      "\n",
      "     0K .......... .......... .......... .......... ........  100%  133K=0.4s\n",
      "\n",
      "2021-08-06 13:28:35 (133 KB/s) - 'lambda_virus.fa.1' saved [49270/49270]\n",
      "\n"
     ]
    }
   ],
   "source": [
    "!wget --no-check https://d28rh4a8wq0iu5.cloudfront.net/ads1/data/lambda_virus.fa"
   ]
  },
  {
   "cell_type": "code",
   "execution_count": 2,
   "id": "d6af0e01",
   "metadata": {},
   "outputs": [],
   "source": [
    "#read and parse the lambda virus\n",
    "\n",
    "def readGenome(filename):\n",
    "    genome = ''\n",
    "    with open(filename, 'r') as f:\n",
    "        for line in f:#read file line by line\n",
    "            if not line[0] == '>':\n",
    "                genome +=line.rstrip()#rstrip trims the white spaces\n",
    "    return genome"
   ]
  },
  {
   "cell_type": "code",
   "execution_count": 7,
   "id": "3d1f4df7",
   "metadata": {},
   "outputs": [],
   "source": [
    "genome = readGenome('lambda_virus.fa')"
   ]
  },
  {
   "cell_type": "code",
   "execution_count": 57,
   "id": "ba56e9ed",
   "metadata": {},
   "outputs": [],
   "source": [
    "#use naive algorithm or exact matching algorithm to find the complemntary region\n",
    "def naive(p, t):\n",
    "    occurrences = []\n",
    "    for i in range(len(t) - len(p) + 1):  # loop over alignments\n",
    "        match = True\n",
    "        for j in range(len(p)):  # loop over characters\n",
    "            if t[i+j] != p[j]:  # compare characters\n",
    "                match = False\n",
    "                break\n",
    "        if match:\n",
    "            occurrences.append(i)  # all chars matched; record\n",
    "    return occurrences"
   ]
  },
  {
   "cell_type": "code",
   "execution_count": 58,
   "id": "3c7c6ca5",
   "metadata": {},
   "outputs": [
    {
     "name": "stdout",
     "output_type": "stream",
     "text": [
      "150\n"
     ]
    }
   ],
   "source": [
    "complement = print(len(naive('AGGT', genome)))"
   ]
  },
  {
   "cell_type": "code",
   "execution_count": 64,
   "id": "19cd07a7",
   "metadata": {},
   "outputs": [
    {
     "name": "stdout",
     "output_type": "stream",
     "text": [
      "ACCT\n",
      "156\n"
     ]
    }
   ],
   "source": [
    "# function for reverse complemetary\n",
    "def reversecomplementseq(s):\n",
    "    complement = {'A':'T', 'G':'C', 'T':'A', 'C':'G'}\n",
    "    emptystring = ''\n",
    "    for base in s:\n",
    "        emptystring = complement[base] +emptystring\n",
    "    return emptystring\n",
    "reverse = reversecomplementseq('AGGT')\n",
    "print(reverse)\n",
    "print(len(naive(reverse, genome)))"
   ]
  },
  {
   "cell_type": "code",
   "execution_count": 65,
   "id": "ee46b4a1",
   "metadata": {},
   "outputs": [
    {
     "name": "stdout",
     "output_type": "stream",
     "text": [
      "306\n"
     ]
    }
   ],
   "source": [
    "get_count  = 0\n",
    "get_count = get_count+(len(naive(reverse, genome)))\n",
    "get_count = get_count+ (len(naive('AGGT', genome)))\n",
    "print(get_count)"
   ]
  },
  {
   "cell_type": "markdown",
   "id": "7e61171a",
   "metadata": {},
   "source": [
    "\n",
    "Q2. How many times does TTAA or its reverse complement occur in the lambda virus genome?\n",
    "Hint: TTAA and its reverse complement are equal, so remember to not double count."
   ]
  },
  {
   "cell_type": "code",
   "execution_count": 66,
   "id": "e601ffc5",
   "metadata": {},
   "outputs": [
    {
     "name": "stdout",
     "output_type": "stream",
     "text": [
      "TTAA\n",
      "195\n"
     ]
    }
   ],
   "source": [
    "# another method to find reverse complement \n",
    "\n",
    "complement = {'A': 'T', 'C': 'G', 'G': 'C', 'T': 'A'}\n",
    "seq = \"TTAA\"\n",
    "reverse_complement = \"\".join(complement.get(base, base) for base in reversed(seq))\n",
    "print(reverse_complement)\n",
    "print(len(naive(reverse_complement, genome)))"
   ]
  },
  {
   "cell_type": "code",
   "execution_count": null,
   "id": "2f2603af",
   "metadata": {},
   "outputs": [],
   "source": []
  }
 ],
 "metadata": {
  "kernelspec": {
   "display_name": "Python 3",
   "language": "python",
   "name": "python3"
  },
  "language_info": {
   "codemirror_mode": {
    "name": "ipython",
    "version": 3
   },
   "file_extension": ".py",
   "mimetype": "text/x-python",
   "name": "python",
   "nbconvert_exporter": "python",
   "pygments_lexer": "ipython3",
   "version": "3.8.8"
  }
 },
 "nbformat": 4,
 "nbformat_minor": 5
}
